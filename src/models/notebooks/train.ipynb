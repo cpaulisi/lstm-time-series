{
 "cells": [
  {
   "cell_type": "code",
   "execution_count": 1,
   "metadata": {},
   "outputs": [
    {
     "data": {
      "image/png": "[encoded data removed]",
      "text/plain": [
       "<Figure size 800x500 with 1 Axes>"
      ]
     },
     "metadata": {},
     "output_type": "display_data"
    }
   ],
   "source": [
    "\n",
    "import torch\n",
    "from torch import nn\n",
    "import numpy as np\n",
    "import matplotlib.pyplot as plt\n",
    "%matplotlib inline\n",
    "\n",
    "# generate sample data\n",
    "plt.figure(figsize=(8,5))\n",
    "# how many time steps/data pts are in one batch of data\n",
    "seq_length = 20\n",
    "# generate evenly spaced data pts\n",
    "time_steps = np.linspace(0, np.pi, seq_length + 1)\n",
    "data = np.sin(time_steps)\n",
    "data.resize((seq_length + 1, 1)) # size becomes (seq_length+1, 1), adds an input_size dimension\n",
    "x = data[:-1] # all but the last piece of data\n",
    "y = data[1:] # all but the first\n",
    "# display the data\n",
    "plt.plot(time_steps[1:], x, 'r.', label='input, x') # x\n",
    "plt.plot(time_steps[1:], y, 'b.', label='target, y') # y\n",
    "plt.legend(loc='best')\n",
    "plt.show()"
   ]
  },
  {
   "attachments": {},
   "cell_type": "markdown",
   "metadata": {},
   "source": [
    "## Load in datasets\n",
    "\n",
    "The datasets consist of:\n",
    "\n",
    "    - train.csv (a training dataset)\n",
    "    - test.csv (a test dataset)\n",
    "    - oil.csv, transactions.csv, holidays_events.csv (exogenous datasets)\n",
    "    - stores.csv (a dataset the links store information)\n",
    "\n",
    "The data is attached in the `data` folder in the `store-sales-time-series-forecasting.zip`, and can be unzipped using the `unzip` command."
   ]
  },
  {
   "cell_type": "code",
   "execution_count": 208,
   "metadata": {},
   "outputs": [
    {
     "name": "stderr",
     "output_type": "stream",
     "text": [
      "/Users/cullenpaulisick/opt/anaconda3/envs/default_ml_dev/lib/python3.10/site-packages/numpy/lib/function_base.py:5071: VisibleDeprecationWarning: Creating an ndarray from ragged nested sequences (which is a list-or-tuple of lists-or-tuples-or ndarrays with different lengths or shapes) is deprecated. If you meant to do this, you must specify 'dtype=object' when creating the ndarray.\n",
      "  arr = asarray(arr)\n"
     ]
    }
   ],
   "source": [
    "import pandas as pd\n",
    "from torch.utils.data import DataLoader\n",
    "from sklearn.model_selection import train_test_split\n",
    "\n",
    "train_df = pd.read_csv(\"../../../data/train.csv\")\n",
    "test_df = pd.read_csv(\"../../../data/test.csv\")\n",
    "oil_df = pd.read_csv(\"../../../data/oil.csv\")\n",
    "\n",
    "# create sample dataset for training\n",
    "# merge and reset index\n",
    "train_df = train_df.merge(oil_df, on='date', how='left').dropna().set_index(\"id\").reset_index()\n",
    "\n",
    "# loader = DataLoader(list(zip(X,y)), shuffle=True, batch_size=16)\n",
    "def sales_by_store(data, family: str=\"AUTOMOTIVE\", col_include = ['date', 'sales']):\n",
    "    store_data = {}\n",
    "    for store in data.store_nbr.unique():\n",
    "        train_df = data.loc[data.family==family.upper()]\n",
    "        store_data[store] = train_df.loc[train_df.store_nbr==store][col_include].sort_values(by=\"date\", ascending=True).set_index(\"date\")\n",
    "        # create target by shifting data forward one period\n",
    "        store_data[store]['sales_shift'] = store_data[store].sales.shift(-1)\n",
    "        # drop remaining null position at last period\n",
    "        store_data[store] = store_data[store].rolling(5).mean()\n",
    "        store_data[store].dropna(inplace=True)\n",
    "    return store_data\n",
    "\n",
    "def groups_of_size(arr: np.array, n: int=20):\n",
    "\n",
    "    chunk_indices = list(range(0, arr.size, n))\n",
    "    # remove first element to prevent 0-sized first element\n",
    "    chunk_indices.pop(0)\n",
    "    splits = np.split(arr, chunk_indices)\n",
    "    # remove last element if size is non-matching\n",
    "    if splits[-1].size != n:\n",
    "        splits = np.delete(splits, -1, 0)\n",
    "    \n",
    "    return np.vstack(splits) \n",
    "\n",
    "# get data for each store within sales family\n",
    "store_data = sales_by_store(train_df, col_include=['date', 'sales', 'dcoilwtico'])\n",
    "# for each store, append to create whole dataset\n",
    "\n",
    "sales = np.vstack([groups_of_size(df.sales.values, n=20) for df in store_data.values()])\n",
    "sales_shift = np.vstack([groups_of_size(df.sales_shift.values, n=20) for df in store_data.values()])\n",
    "oil = np.vstack([groups_of_size(df.dcoilwtico.values, n=20) for df in store_data.values()])\n",
    "\n"
   ]
  },
  {
   "cell_type": "code",
   "execution_count": 306,
   "metadata": {},
   "outputs": [],
   "source": [
    "from torch.utils.data import DataLoader\n",
    "\n",
    "# use just sales as 1-d data (endogenous)\n",
    "# use depth stack of sales and oil for exogenous inclusion\n",
    "\n",
    "# X = sales\n",
    "X = np.dstack([sales, oil])\n",
    "\n",
    "if len(X.shape) < 3:\n",
    "    X = np.expand_dims(X, axis=2)\n",
    "X_train, X_test, y_train, y_test = train_test_split(X, sales_shift, test_size=0.33, random_state=42, shuffle=False)\n",
    "\n",
    "input_size = X.shape[-1]\n",
    "train_loader = DataLoader(list(zip(X_train,y_train)), shuffle=False, batch_size=16, drop_last=True) \n",
    "val_loader = DataLoader(list(zip(X_test,y_test)), shuffle=False, batch_size=16, drop_last=True) \n"
   ]
  },
  {
   "attachments": {},
   "cell_type": "markdown",
   "metadata": {},
   "source": [
    "## Demonstrate Forward Pass"
   ]
  },
  {
   "cell_type": "code",
   "execution_count": 307,
   "metadata": {},
   "outputs": [
    {
     "name": "stdout",
     "output_type": "stream",
     "text": [
      "Input size:  torch.Size([16, 20, 2])\n",
      "Output size:  torch.Size([16, 20, 1])\n",
      "Hidden state size:  torch.Size([2, 16, 10])\n"
     ]
    }
   ],
   "source": [
    "class RNN(nn.Module):\n",
    "    def __init__(\n",
    "            self, \n",
    "            input_size, \n",
    "            output_size,\n",
    "            hidden_dim, \n",
    "            n_layers\n",
    "        ):\n",
    "        super(RNN, self).__init__()\n",
    "        self = self.float()\n",
    "        # hidden dimension\n",
    "        self.hidden_dim=hidden_dim\n",
    "        # define an RNN with specified parameters\n",
    "        # batch_first means that the first dim of the input and output will be the batch_size\n",
    "        self.rnn = nn.RNN(input_size, hidden_dim, n_layers, batch_first=True)\n",
    "        # last, fully-connected layer\n",
    "        self.fc = nn.Linear(hidden_dim, output_size)\n",
    "\n",
    "    def forward(self, x, hidden):\n",
    "        # x (batch_size, seq_length, input_size)\n",
    "        # hidden (n_layers, batch_size, hidden_dim)\n",
    "        # r_out (batch_size, time_step, hidden_size)\n",
    "        batch_size = x.size(0)\n",
    "        seq_length = x.size(1)\n",
    "        \n",
    "        # get output and hidden output for x input and previous hidden dimension\n",
    "        r_out, hidden = self.rnn(x, hidden)\n",
    "        # shape output to be (batch_size, seq_length, hidden_dim)\n",
    "        r_out = r_out.view(batch_size, seq_length, self.hidden_dim)  \n",
    "        # get final output \n",
    "        output = self.fc(r_out)\n",
    "        \n",
    "        return output, hidden\n",
    "\n",
    "    def training_cycle(self, train_loader, val_loader, epochs, print_every, criterion, optimizer):\n",
    "        # initialize the hidden state \n",
    "        for epoch in range(epochs):\n",
    "            hidden=None\n",
    "            # defining the training data \n",
    "            running_train_loss = 0\n",
    "            self.train()\n",
    "            for x, y in train_loader:\n",
    "                # set training mode\n",
    "                # convert data into Tensors\n",
    "                x_tensor = torch.Tensor(x).float()\n",
    "                y_tensor = torch.Tensor(y).unsqueeze(-1).float()\n",
    "                # outputs from the rnn from train\n",
    "                prediction, hidden = self(x_tensor, hidden)\n",
    "\n",
    "                ## Representing Memory ##\n",
    "                # make a new variable for hidden and detach the hidden state from its history\n",
    "                # this way, we don't backpropagate through the entire history\n",
    "                hidden = hidden.data\n",
    "                # calculate the loss\n",
    "                loss = criterion(prediction, y_tensor)\n",
    "                # zero gradients\n",
    "                optimizer.zero_grad()\n",
    "                # perform backprop and update weights\n",
    "                loss.backward()\n",
    "                optimizer.step()\n",
    "                running_train_loss += loss.item()\n",
    "            \n",
    "\n",
    "            # display loss and predictions\n",
    "            if (epoch % print_every == 0) or (epoch==(epochs-1)): \n",
    "                # calculate final_train_loss\n",
    "                train_loss = running_train_loss/len(train_loader)\n",
    "                # set to eval mode and run validation\n",
    "                self.eval()\n",
    "                hidden=None\n",
    "                running_val_loss = 0\n",
    "                for x_test, y_test in val_loader:\n",
    "                    x_tensor_test = torch.Tensor(x_test).float()\n",
    "                    y_tensor_test = torch.Tensor(y_test).unsqueeze(-1).float()\n",
    "                    # outputs from the rnn for validation\n",
    "                    test_prediction, hidden = self(x_tensor_test, hidden)\n",
    "                    ## Representing Memory ##\n",
    "                    # make a new variable for hidden and detach the hidden state from its history\n",
    "                    # this way, we don't backpropagate through the entire history\n",
    "                    hidden = hidden.data\n",
    "                    # calculate the loss\n",
    "                    val_loss = criterion(test_prediction, y_tensor_test)\n",
    "                    running_val_loss += val_loss\n",
    "\n",
    "                val_loss = running_val_loss/len(val_loader)\n",
    "                print(\"Epoch: %d, train loss: %1.5f, val loss: %1.5f\" % (epoch, train_loss, val_loss))\n",
    "\n",
    "\n",
    "\n",
    "# MSE loss and Adam optimizer with a learning rate of 0.01\n",
    "criterion = nn.MSELoss()\n",
    "# test that dimensions are as expected\n",
    "train_loader_i = iter(train_loader)\n",
    "# retrieve sample data to learn from \n",
    "x, y = next(train_loader_i)\n",
    "\n",
    "test_input = torch.Tensor(x).float()\n",
    "print('Input size: ', test_input.size())\n",
    "test_rnn = RNN(input_size=input_size, output_size=1, hidden_dim=10, n_layers=2)\n",
    "test_rnn = test_rnn.float()\n",
    "# # test out rnn sizes\n",
    "test_out, test_h = test_rnn(test_input, None)\n",
    "print('Output size: ', test_out.size())\n",
    "print('Hidden state size: ', test_h.size())"
   ]
  },
  {
   "cell_type": "code",
   "execution_count": 334,
   "metadata": {},
   "outputs": [
    {
     "name": "stdout",
     "output_type": "stream",
     "text": [
      "RNN(\n",
      "  (rnn): RNN(2, 68, num_layers=3, batch_first=True)\n",
      "  (fc): Linear(in_features=68, out_features=1, bias=True)\n",
      ")\n",
      "Epoch: 0, train loss: 8.29209, val loss: 36.02440\n"
     ]
    }
   ],
   "source": [
    "# decide on hyperparameters\n",
    "input_size=2\n",
    "output_size=1\n",
    "hidden_dim=68\n",
    "n_layers=3\n",
    "\n",
    "\n",
    "\n",
    "# instantiate an RNN\n",
    "rnn = RNN(input_size, output_size, hidden_dim, n_layers)\n",
    "rnn = rnn.float()\n",
    "# MSE loss and Adam optimizer with a learning rate of 0.01\n",
    "criterion = nn.MSELoss()\n",
    "optimizer = torch.optim.Adam(rnn.parameters(), lr=0.01) \n",
    "\n",
    "print(rnn)\n",
    "\n",
    "n_steps = 200\n",
    "print_every = 50 \n",
    "# train the RNN\n",
    "train_loader_i = iter(train_loader)\n",
    "hidden = None      \n",
    "\n",
    "# train the RNN\n",
    "def train(rnn, epochs, print_every):\n",
    "    \n",
    "    # initialize the hidden state \n",
    "    for epoch in range(epochs):\n",
    "        hidden=None\n",
    "        # defining the training data \n",
    "        # time_steps = np.linspace(step * np.pi, (step+1)*np.pi, seq_length + 1)\n",
    "        # data = np.sin(time_steps)\n",
    "        # data.resize((seq_length + 1, 1)) # input_size=1\n",
    "\n",
    "        # x = data[:-1]\n",
    "        # y = data[1:]\n",
    "        running_train_loss = 0\n",
    "        rnn.train()\n",
    "        for x, y in train_loader:\n",
    "            # set training mode\n",
    "            # convert data into Tensors\n",
    "            x_tensor = torch.Tensor(x).float()\n",
    "            y_tensor = torch.Tensor(y).unsqueeze(-1).float()\n",
    "            # x_tensor = torch.Tensor(x).unsqueeze(0) # unsqueeze gives a 1, batch_size dimension\n",
    "            # y_tensor = torch.Tensor(y)\n",
    "            # outputs from the rnn from train\n",
    "            prediction, hidden = rnn(x_tensor, hidden)\n",
    "\n",
    "            ## Representing Memory ##\n",
    "            # make a new variable for hidden and detach the hidden state from its history\n",
    "            # this way, we don't backpropagate through the entire history\n",
    "            hidden = hidden.data\n",
    "            # calculate the loss\n",
    "            loss = criterion(prediction, y_tensor)\n",
    "            # zero gradients\n",
    "            optimizer.zero_grad()\n",
    "            # perform backprop and update weights\n",
    "            loss.backward()\n",
    "            optimizer.step()\n",
    "            running_train_loss += loss.item()\n",
    "        \n",
    "\n",
    "        # display loss and predictions\n",
    "        if (epoch % print_every == 0) or (epoch==(epochs-1)): \n",
    "            # calculate final_train_loss\n",
    "            train_loss = running_train_loss/len(train_loader)\n",
    "            # set to eval mode and run validation\n",
    "            rnn.eval()\n",
    "            hidden=None\n",
    "            running_val_loss = 0\n",
    "            for x_test, y_test in val_loader:\n",
    "                x_tensor_test = torch.Tensor(x_test).float()\n",
    "                y_tensor_test = torch.Tensor(y_test).unsqueeze(-1).float()\n",
    "                # outputs from the rnn for validation\n",
    "                test_prediction, hidden = rnn(x_tensor_test, hidden)\n",
    "                ## Representing Memory ##\n",
    "                # make a new variable for hidden and detach the hidden state from its history\n",
    "                # this way, we don't backpropagate through the entire history\n",
    "                hidden = hidden.data\n",
    "                # calculate the loss\n",
    "                val_loss = criterion(test_prediction, y_tensor_test)\n",
    "                running_val_loss += val_loss\n",
    "\n",
    "            val_loss = running_val_loss/len(val_loader)\n",
    "            print(\"Epoch: %d, train loss: %1.5f, val loss: %1.5f\" % (epoch, train_loss, val_loss))\n",
    "\n",
    "train(rnn=rnn, epochs=200, print_every=20)\n",
    "    "
   ]
  },
  {
   "cell_type": "code",
   "execution_count": 310,
   "metadata": {},
   "outputs": [],
   "source": [
    "val_loader_i = iter(val_loader)"
   ]
  },
  {
   "cell_type": "code",
   "execution_count": 333,
   "metadata": {},
   "outputs": [
    {
     "data": {
      "image/png": "[encoded data removed]",
      "text/plain": [
       "<Figure size 640x480 with 1 Axes>"
      ]
     },
     "metadata": {},
     "output_type": "display_data"
    }
   ],
   "source": [
    "# sample inference\n",
    "rnn.eval()\n",
    "time_steps = range(20)\n",
    "\n",
    "val_x, val_y = next(val_loader_i)\n",
    "x_tensor_val = torch.Tensor(val_x[0, :, :]).unsqueeze(0).float()\n",
    "# y_tensor_val = torch.Tensor(val_y).unsqueeze(-1).float()\n",
    "hidden = None\n",
    "prediction, hidden = rnn(x_tensor_val, hidden)\n",
    "\n",
    "plt.plot(time_steps, x_tensor_val.data.numpy()[:, :, 0].flatten(), 'r-') # input\n",
    "plt.plot(time_steps, prediction.data.numpy().flatten(), 'b-') # predictions\n",
    "plt.show()"
   ]
  },
  {
   "cell_type": "code",
   "execution_count": 324,
   "metadata": {},
   "outputs": [
    {
     "data": {
      "text/plain": [
       "array([[0., 0., 0., 0., 0., 0., 0., 0., 0., 0., 0., 0., 0., 0., 0., 0.,\n",
       "        0., 0., 0., 0.]], dtype=float32)"
      ]
     },
     "execution_count": 324,
     "metadata": {},
     "output_type": "execute_result"
    }
   ],
   "source": [
    "x_tensor_val.data.numpy()[:, :, 0]"
   ]
  },
  {
   "cell_type": "code",
   "execution_count": null,
   "metadata": {},
   "outputs": [],
   "source": []
  }
 ],
 "metadata": {
  "kernelspec": {
   "display_name": "default_ml_dev",
   "language": "python",
   "name": "python3"
  },
  "language_info": {
   "codemirror_mode": {
    "name": "ipython",
    "version": 3
   },
   "file_extension": ".py",
   "mimetype": "text/x-python",
   "name": "python",
   "nbconvert_exporter": "python",
   "pygments_lexer": "ipython3",
   "version": "3.10.11"
  },
  "orig_nbformat": 4
 },
 "nbformat": 4,
 "nbformat_minor": 2
}
