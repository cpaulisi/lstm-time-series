{
 "cells": [
  {
   "cell_type": "code",
   "execution_count": 1,
   "metadata": {},
   "outputs": [
    {
     "name": "stderr",
     "output_type": "stream",
     "text": [
      "/Users/cullenpaulisick/opt/anaconda3/envs/default_ml_dev/lib/python3.10/site-packages/numpy/lib/function_base.py:5071: VisibleDeprecationWarning: Creating an ndarray from ragged nested sequences (which is a list-or-tuple of lists-or-tuples-or ndarrays with different lengths or shapes) is deprecated. If you meant to do this, you must specify 'dtype=object' when creating the ndarray.\n",
      "  arr = asarray(arr)\n"
     ]
    }
   ],
   "source": [
    "import sys\n",
    "\n",
    "if \"../\" not in sys.path:\n",
    "    sys.path.append(\"../\")\n",
    "\n",
    "from time_series_dataset import SalesDataset\n",
    "\n",
    "batch_size = 16\n",
    "\n",
    "sdata = SalesDataset(\n",
    "    train_path=\"../../../data/train.csv\", \n",
    "    test_path=\"../../../data/test.csv\", \n",
    "    oil_path=\"../../../data/oil.csv\"\n",
    ")\n",
    "\n",
    "train_loader, val_loader = sdata.get_loaders(include_exog=True, batch_size=batch_size)\n",
    "x, y = next(iter(train_loader))\n",
    "input_size = x.shape[-1]"
   ]
  },
  {
   "cell_type": "code",
   "execution_count": 3,
   "metadata": {},
   "outputs": [
    {
     "name": "stdout",
     "output_type": "stream",
     "text": [
      "Input size:  torch.Size([16, 20, 2])\n",
      "No GPU available, training on CPU; consider making n_epochs very small.\n",
      "Output size:  torch.Size([16, 20, 1])\n",
      "Hidden state size:  torch.Size([2, 16, 32])\n",
      "Cell state size:  torch.Size([2, 16, 32])\n"
     ]
    }
   ],
   "source": [
    "import torch\n",
    "from torch.utils.tensorboard import SummaryWriter\n",
    "\n",
    "\n",
    "\n",
    "from torch import nn\n",
    "from lstm import TimeSeriesLSTM\n",
    "\n",
    "# MSE loss and Adam optimizer with a learning rate of 0.01\n",
    "criterion = nn.MSELoss()\n",
    "# test that dimensions are as expected\n",
    "train_loader_i = iter(train_loader)\n",
    "# retrieve sample data to learn from \n",
    "x, y = next(train_loader_i)\n",
    "test_input = torch.Tensor(x).float()\n",
    "print('Input size: ', test_input.size())\n",
    "test_rnn = TimeSeriesLSTM(input_size=input_size, output_size=1, hidden_dim=32, n_layers=2)\n",
    "test_rnn = test_rnn.float()\n",
    "# # test out rnn sizes\n",
    "test_out, test_h = test_rnn(test_input, None)\n",
    "print('Output size: ', test_out.size())\n",
    "print('Hidden state size: ', test_h[0].size())\n",
    "print('Cell state size: ', test_h[1].size())"
   ]
  },
  {
   "cell_type": "code",
   "execution_count": 4,
   "metadata": {},
   "outputs": [
    {
     "name": "stdout",
     "output_type": "stream",
     "text": [
      "No GPU available, training on CPU; consider making n_epochs very small.\n",
      "Epoch: 0, train loss: 9.37773, val loss: 37.66195\n",
      "Epoch: 30, train loss: 1.71578, val loss: 5.31327\n",
      "Epoch: 60, train loss: 1.51080, val loss: 4.20528\n",
      "Epoch: 90, train loss: 1.38461, val loss: 3.19766\n",
      "Epoch: 120, train loss: 1.33325, val loss: 3.17895\n",
      "Epoch: 150, train loss: 1.32618, val loss: 2.92607\n",
      "Epoch: 180, train loss: 1.30910, val loss: 2.87227\n",
      "Epoch: 210, train loss: 1.29854, val loss: 2.96607\n",
      "Epoch: 240, train loss: 1.24698, val loss: 2.59106\n",
      "Epoch: 270, train loss: 1.21968, val loss: 2.78265\n",
      "Epoch: 299, train loss: 1.22867, val loss: 3.21343\n"
     ]
    }
   ],
   "source": [
    "# decide on hyperparameters\n",
    "hparams = dict(\n",
    "input_size=2,\n",
    "output_size=1,\n",
    "hidden_dim=128,\n",
    "n_layers=3,\n",
    "drop_prob=0.8,\n",
    "lr = 0.0025\n",
    ")\n",
    "\n",
    "with SummaryWriter() as w:\n",
    "    # instantiate an LSTM with regularization\n",
    "    lstm = TimeSeriesLSTM(hparams['input_size'], \n",
    "                hparams['output_size'], \n",
    "                hparams['hidden_dim'],\n",
    "                hparams['n_layers'], \n",
    "                drop_prob=hparams['drop_prob'])\n",
    "    # MSE loss and Adam optimizer with a learning rate of 0.01\n",
    "    criterion = nn.MSELoss()\n",
    "    optimizer = torch.optim.Adam(lstm.parameters(), lr=hparams['lr']) \n",
    "    \n",
    "    train_loss, val_loss = lstm.training_cycle(\n",
    "        batch_size=batch_size,\n",
    "        train_loader=train_loader, \n",
    "        val_loader=val_loader, \n",
    "        epochs=300, \n",
    "        print_every=30, \n",
    "        criterion=criterion, \n",
    "        optimizer=optimizer,\n",
    "        writer=w\n",
    "    )\n",
    "    w.add_hparams(hparam_dict=hparams, \n",
    "                  metric_dict={\n",
    "                        \"hparam/train_loss\":train_loss,\n",
    "                        \"hparam/val_loss\":val_loss\n",
    "                    }\n",
    "                )\n",
    "    w.close()\n"
   ]
  },
  {
   "attachments": {},
   "cell_type": "markdown",
   "metadata": {},
   "source": []
  },
  {
   "cell_type": "code",
   "execution_count": 5,
   "metadata": {},
   "outputs": [],
   "source": [
    "val_loader_i = iter(val_loader)"
   ]
  },
  {
   "cell_type": "code",
   "execution_count": 10,
   "metadata": {},
   "outputs": [
    {
     "data": {
      "image/png": "[encoded data removed]",
      "text/plain": [
       "<Figure size 640x480 with 1 Axes>"
      ]
     },
     "metadata": {},
     "output_type": "display_data"
    }
   ],
   "source": [
    "# sample inference\n",
    "\n",
    "time_steps = range(20)\n",
    "\n",
    "val_x, val_y = next(val_loader_i)\n",
    "\n",
    "# blue for prediction, red for actual/input\n",
    "lstm.display_inference(val_x, val_y)\n"
   ]
  }
 ],
 "metadata": {
  "kernelspec": {
   "display_name": "default_ml_dev",
   "language": "python",
   "name": "python3"
  },
  "language_info": {
   "codemirror_mode": {
    "name": "ipython",
    "version": 3
   },
   "file_extension": ".py",
   "mimetype": "text/x-python",
   "name": "python",
   "nbconvert_exporter": "python",
   "pygments_lexer": "ipython3",
   "version": "3.10.11"
  },
  "orig_nbformat": 4
 },
 "nbformat": 4,
 "nbformat_minor": 2
}
