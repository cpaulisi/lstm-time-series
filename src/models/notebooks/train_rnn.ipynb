{
 "cells": [
  {
   "attachments": {},
   "cell_type": "markdown",
   "metadata": {},
   "source": [
    "## Load in datasets\n",
    "\n",
    "The datasets consist of:\n",
    "\n",
    "    - train.csv (a training dataset)\n",
    "    - test.csv (a test dataset)\n",
    "    - oil.csv, transactions.csv, holidays_events.csv (exogenous datasets)\n",
    "    - stores.csv (a dataset the links store information)\n",
    "\n",
    "The data is attached in the `data` folder in the `store-sales-time-series-forecasting.zip`, and can be unzipped using the `unzip` command."
   ]
  },
  {
   "cell_type": "code",
   "execution_count": 29,
   "metadata": {},
   "outputs": [
    {
     "name": "stderr",
     "output_type": "stream",
     "text": [
      "/Users/cullenpaulisick/opt/anaconda3/envs/default_ml_dev/lib/python3.10/site-packages/numpy/lib/function_base.py:5071: VisibleDeprecationWarning: Creating an ndarray from ragged nested sequences (which is a list-or-tuple of lists-or-tuples-or ndarrays with different lengths or shapes) is deprecated. If you meant to do this, you must specify 'dtype=object' when creating the ndarray.\n",
      "  arr = asarray(arr)\n"
     ]
    }
   ],
   "source": [
    "import sys\n",
    "\n",
    "if \"../\" not in sys.path:\n",
    "    sys.path.append(\"../\")\n",
    "\n",
    "from time_series_dataset import SalesDataset\n",
    "\n",
    "batch_size=16\n",
    "sdata = SalesDataset(\n",
    "    train_path=\"../../../data/train.csv\", \n",
    "    test_path=\"../../../data/test.csv\", \n",
    "    oil_path=\"../../../data/oil.csv\"\n",
    ")\n",
    "\n",
    "train_loader, val_loader = sdata.get_loaders(include_exog=True, batch_size=batch_size)\n",
    "x, y = next(iter(train_loader))\n",
    "input_size = x.shape[-1]"
   ]
  },
  {
   "attachments": {},
   "cell_type": "markdown",
   "metadata": {},
   "source": [
    "## Demonstrate Forward Pass"
   ]
  },
  {
   "cell_type": "code",
   "execution_count": 30,
   "metadata": {},
   "outputs": [
    {
     "name": "stderr",
     "output_type": "stream",
     "text": [
      "2023-06-14 15:05:10.344715: I tensorflow/core/platform/cpu_feature_guard.cc:182] This TensorFlow binary is optimized to use available CPU instructions in performance-critical operations.\n",
      "To enable the following instructions: AVX2 AVX512F AVX512_VNNI FMA, in other operations, rebuild TensorFlow with the appropriate compiler flags.\n"
     ]
    },
    {
     "name": "stdout",
     "output_type": "stream",
     "text": [
      "Input size:  torch.Size([16, 20, 2])\n",
      "No GPU available, training on CPU; consider making n_epochs very small.\n",
      "Output size:  torch.Size([16, 20, 1])\n",
      "Hidden state size:  torch.Size([16, 32])\n",
      "Cell state size:  torch.Size([16, 32])\n"
     ]
    }
   ],
   "source": [
    "import torch\n",
    "from torch import nn\n",
    "\n",
    "# class RNN(nn.Module):\n",
    "#     def __init__(\n",
    "#             self, \n",
    "#             input_size, \n",
    "#             output_size,\n",
    "#             hidden_dim, \n",
    "#             n_layers, \n",
    "#             drop_prob: float=0.5\n",
    "#         ):\n",
    "#         super(RNN, self).__init__()\n",
    "#         self = self.float()\n",
    "#         # hidden dimension\n",
    "#         self.hidden_dim=hidden_dim\n",
    "#         # define an RNN with specified parameters\n",
    "#         # batch_first means that the first dim of the input and output will be the batch_size\n",
    "#         self.rnn = nn.RNN(input_size, hidden_dim, n_layers, batch_first=True)\n",
    "#         self.dropout = nn.Dropout(drop_prob)\n",
    "#         # last, fully-connected layer\n",
    "#         self.fc = nn.Linear(hidden_dim, output_size)\n",
    "\n",
    "#     def forward(self, x, hidden):\n",
    "#         # x (batch_size, seq_length, input_size)\n",
    "#         # hidden (n_layers, batch_size, hidden_dim)\n",
    "#         # r_out (batch_size, time_step, hidden_size)\n",
    "#         batch_size = x.size(0)\n",
    "#         seq_length = x.size(1)\n",
    "        \n",
    "#         # get output and hidden output for x input and previous hidden dimension\n",
    "#         r_out, hidden = self.rnn(x, hidden)\n",
    "#         out = self.dropout(r_out)\n",
    "#         # shape output to be (batch_size, seq_length, hidden_dim)\n",
    "#         out = out.view(batch_size, seq_length, self.hidden_dim)  \n",
    "#         # get final output \n",
    "#         output = self.fc(r_out)\n",
    "        \n",
    "#         return output, hidden\n",
    "    \n",
    "#     def init_hidden(self, batch_size):\n",
    "#         ''' Initializes hidden state '''\n",
    "#         # Create two new tensors with sizes n_layers x batch_size x n_hidden,\n",
    "#         # initialized to zero, for hidden state and cell state of LSTM\n",
    "#         weight = next(self.parameters()).data\n",
    "        \n",
    "#         if (self.train_on_gpu):\n",
    "#             hidden = weight.new(self.n_layers, batch_size, self.hidden_dim).zero_().cuda()\n",
    "#         else:\n",
    "#             hidden = weight.new(self.n_layers, batch_size, self.hidden_dim).zero_()\n",
    "        \n",
    "#         return hidden\n",
    "\n",
    "#     def training_cycle(self, train_loader, val_loader, epochs, print_every, criterion, optimizer):\n",
    "#         # initialize the hidden state \n",
    "#         for epoch in range(epochs):\n",
    "#             hidden=None\n",
    "#             # defining the training data \n",
    "#             running_train_loss = 0\n",
    "#             self.train()\n",
    "#             for x, y in train_loader:\n",
    "#                 # set training mode\n",
    "#                 # convert data into Tensors\n",
    "#                 x_tensor = torch.Tensor(x).float()\n",
    "#                 y_tensor = torch.Tensor(y).unsqueeze(-1).float()\n",
    "#                 # outputs from the rnn from train\n",
    "#                 prediction, hidden = self(x_tensor, hidden)\n",
    "\n",
    "#                 ## Representing Memory ##\n",
    "#                 # make a new variable for hidden and detach the hidden state from its history\n",
    "#                 # this way, we don't backpropagate through the entire history\n",
    "#                 hidden = hidden.data\n",
    "#                 # calculate the loss\n",
    "#                 loss = criterion(prediction, y_tensor)\n",
    "#                 # zero gradients\n",
    "#                 optimizer.zero_grad()\n",
    "#                 # perform backprop and update weights\n",
    "#                 loss.backward()\n",
    "#                 optimizer.step()\n",
    "#                 running_train_loss += loss.item()\n",
    "            \n",
    "\n",
    "#             # display loss and predictions\n",
    "#             if (epoch % print_every == 0) or (epoch==(epochs-1)): \n",
    "#                 # calculate final_train_loss\n",
    "#                 train_loss = running_train_loss/len(train_loader)\n",
    "#                 # set to eval mode and run validation\n",
    "#                 self.eval()\n",
    "#                 hidden=None\n",
    "#                 running_val_loss = 0\n",
    "#                 for x_test, y_test in val_loader:\n",
    "#                     x_tensor_test = torch.Tensor(x_test).float()\n",
    "#                     y_tensor_test = torch.Tensor(y_test).unsqueeze(-1).float()\n",
    "#                     # outputs from the rnn for validation\n",
    "#                     test_prediction, hidden = self(x_tensor_test, hidden)\n",
    "#                     ## Representing Memory ##\n",
    "#                     # make a new variable for hidden and detach the hidden state from its history\n",
    "#                     # this way, we don't backpropagate through the entire history\n",
    "#                     hidden = hidden.data\n",
    "#                     # calculate the loss\n",
    "#                     val_loss = criterion(test_prediction, y_tensor_test)\n",
    "#                     running_val_loss += val_loss\n",
    "#                 self.train()\n",
    "\n",
    "#                 val_loss = running_val_loss/len(val_loader)\n",
    "#                 print(\"Epoch: %d, train loss: %1.5f, val loss: %1.5f\" % (epoch, train_loss, val_loss))\n",
    "\n",
    "\n",
    "\n",
    "import torch\n",
    "from torch.utils.tensorboard import SummaryWriter\n",
    "\n",
    "\n",
    "\n",
    "from torch import nn\n",
    "from rnn import TimeSeriesRNN\n",
    "\n",
    "# MSE loss and Adam optimizer with a learning rate of 0.01\n",
    "criterion = nn.MSELoss()\n",
    "# test that dimensions are as expected\n",
    "train_loader_i = iter(train_loader)\n",
    "# retrieve sample data to learn from \n",
    "x, y = next(train_loader_i)\n",
    "test_input = torch.Tensor(x).float()\n",
    "print('Input size: ', test_input.size())\n",
    "test_rnn = TimeSeriesRNN(input_size=input_size, output_size=1, hidden_dim=32, n_layers=2)\n",
    "test_rnn = test_rnn.float()\n",
    "# # test out rnn sizes\n",
    "test_out, test_h = test_rnn(test_input, None)\n",
    "print('Output size: ', test_out.size())\n",
    "print('Hidden state size: ', test_h[0].size())\n",
    "print('Cell state size: ', test_h[1].size())"
   ]
  },
  {
   "cell_type": "code",
   "execution_count": 32,
   "metadata": {},
   "outputs": [
    {
     "name": "stdout",
     "output_type": "stream",
     "text": [
      "No GPU available, training on CPU; consider making n_epochs very small.\n",
      "Epoch: 0, train loss: 8.40006, val loss: 41.85508\n",
      "Epoch: 30, train loss: 2.15696, val loss: 8.70346\n",
      "Epoch: 60, train loss: 1.84016, val loss: 8.40034\n",
      "Epoch: 90, train loss: 1.69547, val loss: 8.88552\n",
      "Epoch: 120, train loss: 1.79868, val loss: 8.32000\n",
      "Epoch: 150, train loss: 1.74378, val loss: 7.98035\n",
      "Epoch: 180, train loss: 1.86206, val loss: 9.30767\n",
      "Epoch: 210, train loss: 1.66119, val loss: 8.09234\n",
      "Epoch: 240, train loss: 1.69338, val loss: 8.33714\n",
      "Epoch: 270, train loss: 1.80990, val loss: 8.90276\n",
      "Epoch: 299, train loss: 1.68157, val loss: 8.81053\n"
     ]
    }
   ],
   "source": [
    "from torch.utils.tensorboard import SummaryWriter\n",
    "# decide on hyperparameters\n",
    "hparams = dict(\n",
    "model_name=\"rnn\",\n",
    "input_size=2,\n",
    "output_size=1,\n",
    "hidden_dim=68,\n",
    "drop_prob=0.8,\n",
    "n_layers=3,\n",
    "lr = 0.0025\n",
    ")\n",
    "\n",
    "\n",
    "with SummaryWriter() as w:\n",
    "    # instantiate an LSTM with regularization\n",
    "    rnn = TimeSeriesRNN(hparams['input_size'], \n",
    "                hparams['output_size'], \n",
    "                hparams['hidden_dim'],\n",
    "                hparams['n_layers'], \n",
    "                drop_prob=hparams['drop_prob'])\n",
    "    # MSE loss and Adam optimizer with a learning rate of 0.01\n",
    "    criterion = nn.MSELoss()\n",
    "    optimizer = torch.optim.Adam(rnn.parameters(), lr=hparams['lr']) \n",
    "    \n",
    "    train_loss, val_loss = rnn.training_cycle(\n",
    "        batch_size=batch_size,\n",
    "        train_loader=train_loader, \n",
    "        val_loader=val_loader, \n",
    "        epochs=300, \n",
    "        print_every=30, \n",
    "        criterion=criterion, \n",
    "        optimizer=optimizer,\n",
    "        writer=w\n",
    "    )\n",
    "    w.add_hparams(hparam_dict=hparams, \n",
    "                  metric_dict={\n",
    "                        \"hparam/train_loss\":train_loss,\n",
    "                        \"hparam/val_loss\":val_loss\n",
    "                    }\n",
    "                )\n",
    "    w.close()\n",
    "\n",
    "\n",
    "val_loader_i = iter(val_loader)"
   ]
  },
  {
   "cell_type": "code",
   "execution_count": null,
   "metadata": {},
   "outputs": [],
   "source": [
    "val_loader_i = iter(val_loader)"
   ]
  },
  {
   "cell_type": "code",
   "execution_count": 46,
   "metadata": {},
   "outputs": [
    {
     "data": {
      "image/png": "[encoded data removed]",
      "text/plain": [
       "<Figure size 640x480 with 1 Axes>"
      ]
     },
     "metadata": {},
     "output_type": "display_data"
    }
   ],
   "source": [
    "val_x, val_y = next(val_loader_i)\n",
    "# blue for prediction, red for actual/input\n",
    "rnn.display_inference(val_x, val_y)"
   ]
  },
  {
   "cell_type": "code",
   "execution_count": null,
   "metadata": {},
   "outputs": [],
   "source": []
  }
 ],
 "metadata": {
  "kernelspec": {
   "display_name": "default_ml_dev",
   "language": "python",
   "name": "python3"
  },
  "language_info": {
   "codemirror_mode": {
    "name": "ipython",
    "version": 3
   },
   "file_extension": ".py",
   "mimetype": "text/x-python",
   "name": "python",
   "nbconvert_exporter": "python",
   "pygments_lexer": "ipython3",
   "version": "3.10.11"
  },
  "orig_nbformat": 4
 },
 "nbformat": 4,
 "nbformat_minor": 2
}
